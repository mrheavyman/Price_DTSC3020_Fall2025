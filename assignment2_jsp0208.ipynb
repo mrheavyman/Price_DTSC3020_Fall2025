{
  "nbformat": 4,
  "nbformat_minor": 0,
  "metadata": {
    "colab": {
      "provenance": []
    },
    "kernelspec": {
      "name": "python3",
      "display_name": "Python 3"
    },
    "language_info": {
      "name": "python"
    }
  },
  "cells": [
    {
      "cell_type": "code",
      "execution_count": 32,
      "metadata": {
        "colab": {
          "base_uri": "https://localhost:8080/"
        },
        "id": "TodsOQLbcsGo",
        "outputId": "11b29a27-e501-4a20-e992-e1807ee38593"
      },
      "outputs": [
        {
          "output_type": "stream",
          "name": "stdout",
          "text": [
            "['apples', 'bananas', 'kumquats']\n",
            "apples\n",
            "bananas\n",
            "kumquats\n",
            "\n",
            "\n",
            "['Lisa', 'Henry', 'Alice', 'Batholomew']\n",
            "\n",
            "\n",
            "['car', 'bike', 'bus', 'plane', 'boat', 'rocket']\n",
            "\n",
            "\n",
            "['beef', 'fries', 'cookies', 'pizza', 'chocolate']\n",
            "\n",
            "\n",
            "['Austin', 'Dallas', 'Houston', 'San Antonio']\n",
            "['San Antonio', 'Houston', 'Dallas', 'Austin']\n",
            "\n",
            "\n",
            "cow\n",
            "sheep\n",
            "pigs\n",
            "\n",
            "\n",
            "2\n",
            "4\n",
            "6\n",
            "8\n",
            "10\n",
            "\n",
            "\n",
            "['J.J.', 'Greg', 'Fred']\n",
            "['Elliot', 'Lewis', 'Margaret']\n",
            "\n",
            "\n",
            "1\n",
            "2\n",
            "3\n",
            "4\n",
            "5\n",
            "6\n",
            "7\n",
            "8\n",
            "9\n",
            "10\n",
            "\n",
            "\n",
            "[1, 4, 9, 16, 25]\n"
          ]
        }
      ],
      "source": [
        "fruits = ['apples', 'bananas', 'kumquats'] #1\n",
        "print(fruits)\n",
        "print(fruits[0])\n",
        "print(fruits[1])\n",
        "print(fruits[2])\n",
        "\n",
        "names = ['Johnny', 'Henry', 'Alice', 'Batholomew'] #2\n",
        "names[0] = 'Lisa'\n",
        "print('\\n')\n",
        "print(names)\n",
        "\n",
        "vehicles = ['car', 'bike', 'bus', 'plane', 'boat'] #3\n",
        "vehicles.append('rocket')\n",
        "print('\\n')\n",
        "print(vehicles)\n",
        "\n",
        "foods = ['ham', 'beef', 'fries', 'cookies', 'pizza', 'chocolate'] #4\n",
        "del foods[0]\n",
        "print('\\n')\n",
        "print(foods)\n",
        "\n",
        "cities = ['Austin', 'Dallas', 'Houston', 'San Antonio'] #5\n",
        "print('\\n')\n",
        "print(sorted(cities))\n",
        "print(sorted(cities, reverse=True))\n",
        "\n",
        "animals = ['cow', 'sheep', 'pigs'] #6\n",
        "print('\\n')\n",
        "for x in animals:\n",
        "  print(x)\n",
        "\n",
        "numbers = [1, 2, 3, 4, 5] #7\n",
        "print('\\n')\n",
        "for value in numbers:\n",
        "  print(value * 2)\n",
        "\n",
        "friends = ['J.J.', 'Greg', 'Fred', 'Elliot', 'Lewis', 'Margaret'] #8\n",
        "print('\\n')\n",
        "print(friends[:3])\n",
        "print(friends[3:])\n",
        "\n",
        "print('\\n') #9\n",
        "for value in range(1, 11):\n",
        "  print(value)\n",
        "\n",
        "squares = [value**2 for value in range(1, 6)]\n",
        "print('\\n')\n",
        "print(squares)\n"
      ]
    }
  ]
}