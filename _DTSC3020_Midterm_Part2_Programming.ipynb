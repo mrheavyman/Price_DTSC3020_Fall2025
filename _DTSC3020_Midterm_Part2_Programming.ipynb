{
  "cells": [
    {
      "cell_type": "markdown",
      "metadata": {
        "id": "view-in-github",
        "colab_type": "text"
      },
      "source": [
        "<a href=\"https://colab.research.google.com/github/mrheavyman/Price_DTSC3020_Fall2025/blob/main/_DTSC3020_Midterm_Part2_Programming.ipynb\" target=\"_parent\"><img src=\"https://colab.research.google.com/assets/colab-badge.svg\" alt=\"Open In Colab\"/></a>"
      ]
    },
    {
      "cell_type": "markdown",
      "id": "8e58db4f",
      "metadata": {
        "id": "8e58db4f"
      },
      "source": [
        "# DTSC 3020 — Midterm Exam (Part 2: Programming)\n",
        "University of North Texas\n",
        "\n",
        "**Course:** Introduction to Computation with Python (DTSC 3020)  \n",
        "**Exam:** Midterm — Programming (Ch. 1–8 concepts)\n",
        "\n"
      ]
    },
    {
      "cell_type": "markdown",
      "id": "ed86aaec",
      "metadata": {
        "id": "ed86aaec"
      },
      "source": [
        "---\n",
        "### Instructions\n",
        "- Write clean, readable Python code for each question.\n",
        "- Use only standard Python; no external libraries.\n",
        "- Where required, write a function and return the result.\n",
        "- After each solution cell, there is a **Part 2 — Test Scenario**. Follow the prompt to run your code.\n",
        "\n",
        "---"
      ]
    },
    {
      "cell_type": "markdown",
      "id": "227c4435",
      "metadata": {
        "id": "227c4435"
      },
      "source": [
        "## Question 1 — Create Member ID\n",
        "Write a Python function `create_member_id(full_name)` that creates a Library Member ID from a person’s full name.\n",
        "\n",
        "**Rules**\n",
        "- Normalize the name: remove extra spaces, convert to lowercase, and split by spaces.\n",
        "- Use the last word as the last name (e.g., `\"John Ronald Reuel Tolkien\"` → last name `tolkien`).\n",
        "- Use the first letters of all earlier words as initials (e.g., `jrr` for the example above).\n",
        "- Construct the member ID in this exact format: `lastname_initials` (underscore between them; no spaces).\n",
        "\n",
        "**Examples**\n",
        "- `\"Sara Amini\"` → `amini_sa`\n",
        "- `\"Mary Jane Watson\"` → `watson_mj`\n",
        "- `\"LINA\"` (single word) → use the word for both parts: `lina_l`\n",
        "\n",
        "Part 2 — Test Scenario (run using your function)\n",
        "names = [\"Sara Amini\", \"Ali\", \"Mary Jane\", \"John Smith\", \"LINA\", \"madonna\", \"sara amini\"]\n",
        "\n",
        "\n",
        "\n"
      ]
    },
    {
      "cell_type": "code",
      "execution_count": null,
      "id": "51411a35",
      "metadata": {
        "id": "51411a35"
      },
      "outputs": [],
      "source": [
        "# Write your answer here for Q1\n",
        "def create_member_id(full_name):\n",
        "  nameList = full_name.lower().split()\n",
        "  lastName = nameList[-1]\n",
        "  initials = \"\"\n",
        "  if len(nameList) > 2:\n",
        "    for name in nameList[:-1]:\n",
        "      initials += name[0]\n",
        "\n",
        "  elif len(nameList) < 2:\n",
        "    initials += lastName[0]\n",
        "\n",
        "  else:\n",
        "    firstName = nameList[0]\n",
        "    initials += firstName[0] + lastName[0]\n",
        "\n",
        "  userID = (f\"{lastName}_{initials}\")\n",
        "  return userID\n"
      ]
    },
    {
      "cell_type": "code",
      "execution_count": null,
      "id": "584ae4f0",
      "metadata": {
        "id": "584ae4f0",
        "colab": {
          "base_uri": "https://localhost:8080/"
        },
        "outputId": "0cd335c8-8cfe-46a9-b708-0ef4debc2c03"
      },
      "outputs": [
        {
          "output_type": "stream",
          "name": "stdout",
          "text": [
            "amini_sa\n",
            "ali_a\n",
            "jane_mj\n",
            "smith_js\n",
            "lina_l\n",
            "madonna_m\n",
            "amini_sa\n",
            "False\n"
          ]
        }
      ],
      "source": [
        "# Part 2 — Test Scenario (run using your function)\n",
        "def create_member_id(full_name):\n",
        "  nameList = full_name.lower().split()\n",
        "  lastName = nameList[-1]\n",
        "  initials = \"\"\n",
        "  if len(nameList) > 2:\n",
        "    for name in nameList[:-1]:\n",
        "      initials += name[0]\n",
        "\n",
        "  elif len(nameList) < 2:\n",
        "    initials += lastName[0]\n",
        "\n",
        "  else:\n",
        "    firstName = nameList[0]\n",
        "    initials += firstName[0] + lastName[0]\n",
        "\n",
        "  userID = (f\"{lastName}_{initials}\")\n",
        "  return userID\n",
        "\n",
        "names = [\"Sara Amini\", \"Ali\", \"Mary Jane\", \"John Smith\", \"LINA\", \"madonna\", \"sara amini\"]\n",
        "for name in names:\n",
        "  print(create_member_id(name))"
      ]
    },
    {
      "cell_type": "markdown",
      "id": "c1727720",
      "metadata": {
        "id": "c1727720"
      },
      "source": [
        "## Question 2 — Movie Ticket Booth\n",
        "\n",
        "Write a Python program that simulates a movie ticket booth using this price list:\n",
        "\n",
        "```python\n",
        "prices = {\"adult\": 12.5, \"child\": 8, \"senior\": 9.5, \"student\": 10}\n",
        "```\n",
        "\n",
        "**Program Requirements**\n",
        "- Repeatedly ask the user to enter a ticket type or type `done` to finish.\n",
        "- Valid inputs: `adult`, `child`, `senior`, `student`, or `done`.\n",
        "- If the ticket type exists, add its price to a running total and print a confirmation message.\n",
        "- If it doesn’t exist, print `\"Invalid ticket type\"`.\n",
        "- When the user types `done`, stop and show:\n",
        "  - **Subtotal** (sum of valid ticket prices)\n",
        "  - **Tax** = 8% of subtotal\n",
        "  - **Final total** = subtotal + tax\n"
      ]
    },
    {
      "cell_type": "code",
      "execution_count": 35,
      "id": "4b859e17",
      "metadata": {
        "id": "4b859e17",
        "colab": {
          "base_uri": "https://localhost:8080/"
        },
        "outputId": "776bd00b-aab6-4dfa-c468-f7e337e42eba"
      },
      "outputs": [
        {
          "output_type": "stream",
          "name": "stdout",
          "text": [
            "Enter ticket type (or 'done' to finish): adult\n",
            "Ticket validated\n",
            "Enter ticket type (or 'done' to finish): child\n",
            "Ticket validated\n",
            "Enter ticket type (or 'done' to finish): me\n",
            "Invalid ticket type, please try again\n",
            "Enter ticket type (or 'done' to finish): done\n",
            "\n",
            "--- Summary ---\n",
            "Subtotal: $20.50\n",
            "Tax (8%): $1.64\n",
            "Final Total: $22.14\n"
          ]
        }
      ],
      "source": [
        "# Write your answer here\n",
        "prices = {\"adult\": 12.5, \"child\": 8, \"senior\": 9.5, \"student\": 10}\n",
        "userInput = \"\"\n",
        "subTotal = 0\n",
        "\n",
        "while userInput.lower() != \"done\":\n",
        "  userInput = input(\"Enter ticket type (or 'done' to finish): \")\n",
        "  if userInput.lower() in prices.keys():\n",
        "    subTotal += prices[userInput.lower()]\n",
        "    print(\"Ticket validated\")\n",
        "  elif userInput.lower() != \"done\":\n",
        "    print(\"Invalid ticket type, please try again\")\n",
        "\n",
        "tax_rate = 0.08\n",
        "tax = round(subTotal * tax_rate, 2) # Calculate tax\n",
        "final_total = subTotal + tax # Calculate final total\n",
        "\n",
        "print(\"\\n--- Summary ---\")\n",
        "print(f\"Subtotal: ${subTotal:.2f}\")\n",
        "print(f\"Tax (8%): ${tax:.2f}\")\n",
        "print(f\"Final Total: ${final_total:.2f}\")"
      ]
    },
    {
      "cell_type": "markdown",
      "id": "17b39afe",
      "metadata": {
        "id": "17b39afe"
      },
      "source": [
        "**Part 2 — Example Scenario**\n",
        "When prompted, type the following (each on a new line), then press Enter after each entry:\n",
        "\n",
        "```\n",
        "adult\n",
        "child\n",
        "student\n",
        "done\n",
        "```\n",
        "Your program should complete and display the subtotal, tax, and final total based on these entries.\n"
      ]
    },
    {
      "cell_type": "markdown",
      "id": "28c710b6",
      "metadata": {
        "id": "28c710b6"
      },
      "source": [
        "## Question 3 — Student Grade Analyzer\n",
        "\n",
        "Write a Python function `analyze_grades(grades)` that takes a list of numbers (0–100) and returns three values:\n",
        "1. average grade\n",
        "2. highest grade\n",
        "3. lowest grade\n",
        "\n",
        "**Constraints**\n",
        "- Use a function and return statement(s).\n",
        "- Do not use external libraries.\n"
      ]
    },
    {
      "cell_type": "code",
      "execution_count": 25,
      "id": "efce3052",
      "metadata": {
        "id": "efce3052"
      },
      "outputs": [],
      "source": [
        "# Write your answer here for Q3\n",
        "def analyze_grades(grades):\n",
        "  sum = 0\n",
        "  low = 101\n",
        "  high = 0\n",
        "  for i in grades:\n",
        "    sum += i\n",
        "    if i < low:\n",
        "      low = i\n",
        "    if i > high:\n",
        "      high = i\n",
        "  average = sum / len(grades)\n",
        "\n",
        "  return average, high, low"
      ]
    },
    {
      "cell_type": "code",
      "execution_count": 30,
      "id": "ad2b0d29",
      "metadata": {
        "id": "ad2b0d29",
        "colab": {
          "base_uri": "https://localhost:8080/"
        },
        "outputId": "4cff8c2c-e5f4-41a0-df06-4ee2893e2f4b"
      },
      "outputs": [
        {
          "output_type": "stream",
          "name": "stdout",
          "text": [
            "Average: 86\n",
            "Highest Grade: 93\n",
            "Lowest Grade: 72\n"
          ]
        }
      ],
      "source": [
        "# Part 2 — Test Scenario\n",
        "def analyze_grades(grades):\n",
        "  sum = 0\n",
        "  low = 101\n",
        "  high = 0\n",
        "  for i in grades:\n",
        "    sum += i\n",
        "    if i < low:\n",
        "      low = i\n",
        "    if i > high:\n",
        "      high = i\n",
        "  average = sum / len(grades)\n",
        "  return average, high, low\n",
        "\n",
        "sample = [88, 92, 79, 93, 85, 90, 72]\n",
        "average = 0\n",
        "high = 0\n",
        "low = 0\n",
        "average, high, low = analyze_grades(sample)\n",
        "print(f\"Average: {average:0.0f}\\nHighest Grade: {high}\\nLowest Grade: {low}\")\n"
      ]
    },
    {
      "cell_type": "markdown",
      "id": "d378f3c3",
      "metadata": {
        "id": "d378f3c3"
      },
      "source": [
        "## Question 4 — PIN Verification\n",
        "Write a Python program that simulates an ATM PIN verification system.\n",
        "\n",
        "**Requirements**\n",
        "- The correct PIN is `4321`.\n",
        "- The user has at most **3 attempts** to enter the correct PIN.\n",
        "- If the PIN is correct: print `Access granted.` and stop.\n",
        "- If all 3 attempts fail: print `Card blocked.`\n",
        "- After each wrong attempt, also print the counter in the form `Wrong (x/3)`.\n"
      ]
    },
    {
      "cell_type": "code",
      "execution_count": 34,
      "id": "5ea085a2",
      "metadata": {
        "id": "5ea085a2",
        "colab": {
          "base_uri": "https://localhost:8080/"
        },
        "outputId": "45091864-792e-4384-cb00-a6dfe881a3cd"
      },
      "outputs": [
        {
          "output_type": "stream",
          "name": "stdout",
          "text": [
            "Enter PIN: 1111\n",
            "Access Denied. Wrong (1)\n",
            "Enter PIN: 2222\n",
            "Access Denied. Wrong (2)\n",
            "Enter PIN: 3333\n",
            "Access Denied. Wrong (3)\n",
            "Card Blocked\n"
          ]
        }
      ],
      "source": [
        "# Write your answer here\n",
        "cPIN = 4321\n",
        "i = 0\n",
        "userInput = \"\"\n",
        "while i < 3:\n",
        "  userInput = input(\"Enter PIN: \")\n",
        "  if int(userInput) == cPIN:\n",
        "    print(\"Access Granted\")\n",
        "    break\n",
        "  else:\n",
        "    print(f\"Access Denied. Wrong ({i+1})\")\n",
        "    i += 1\n",
        "if i == 3:\n",
        "  print(\"Card Blocked\")\n",
        "\n"
      ]
    },
    {
      "cell_type": "markdown",
      "id": "1c61e343",
      "metadata": {
        "id": "1c61e343"
      },
      "source": [
        "**Part 2 — Test Scenario**\n",
        "Run your program and, when prompted, enter these sequences to verify both behaviors:\n",
        "\n",
        "**Scenario A**\n",
        "```\n",
        "1111\n",
        "2222\n",
        "4321\n",
        "```\n",
        "\n",
        "\n"
      ]
    }
  ],
  "metadata": {
    "kernelspec": {
      "display_name": "Python 3",
      "language": "python",
      "name": "python3"
    },
    "language_info": {
      "name": "python",
      "version": "3.x"
    },
    "colab": {
      "provenance": [],
      "include_colab_link": true
    }
  },
  "nbformat": 4,
  "nbformat_minor": 5
}