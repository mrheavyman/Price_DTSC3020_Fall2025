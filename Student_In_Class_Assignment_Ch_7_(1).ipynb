{
  "nbformat": 4,
  "nbformat_minor": 0,
  "metadata": {
    "colab": {
      "provenance": [],
      "include_colab_link": true
    },
    "kernelspec": {
      "name": "python3",
      "display_name": "Python 3"
    },
    "language_info": {
      "name": "python"
    }
  },
  "cells": [
    {
      "cell_type": "markdown",
      "metadata": {
        "id": "view-in-github",
        "colab_type": "text"
      },
      "source": [
        "<a href=\"https://colab.research.google.com/github/mrheavyman/Price_DTSC3020_Fall2025/blob/main/Student_In_Class_Assignment_Ch_7_(1).ipynb\" target=\"_parent\"><img src=\"https://colab.research.google.com/assets/colab-badge.svg\" alt=\"Open In Colab\"/></a>"
      ]
    },
    {
      "cell_type": "markdown",
      "source": [
        "#Write a Python program that simulates a self-checkout system.**\n",
        "Use this price list: prices: apple= 1 ,  bread= 2.5 ,  milk=5 ,  egg= 6\n",
        "\n",
        "Program requirements:\n",
        "\n",
        "The program should repeatedly ask the user to enter an item name or enter \"pay\".\n",
        "\n",
        "\n",
        "• Valid inputs are the names of the **items above ** or the word \"pay\".\n",
        "\n",
        "\n",
        "If the entered item exists in the price list:\n",
        "\n",
        "• Add its price to the running total.\n",
        "\n",
        "\n",
        "• Print the message: \"Added , running total: $\".\n",
        "\n",
        "\n",
        "If the entered item does not exist in the price list:\n",
        "\n",
        "• Print \"Item not found\".\n",
        "\n",
        "If the user types \"pay\":\n",
        "\n",
        "• Stop asking for input.\n",
        "\n",
        "Show the following three values:\n",
        "\n",
        "\n",
        "**Subtotal: the sum of all valid items entered.**\n",
        "\n",
        "**Tax: 8% of the subtotal. (0.08 * total)**\n",
        "\n",
        "**Final total: subtotal + tax.**\n",
        "\n",
        "\n",
        "Run your program with this purchase list. For example, for one person whose purchase is:apple, pizza, bread, pay *italicised text*"
      ],
      "metadata": {
        "id": "t1xs1X02Owtz"
      }
    },
    {
      "cell_type": "code",
      "execution_count": null,
      "metadata": {
        "id": "nTH6mvq1OqHP",
        "colab": {
          "base_uri": "https://localhost:8080/"
        },
        "outputId": "b2f4ec87-c741-482f-e9a6-383470644481"
      },
      "outputs": [
        {
          "output_type": "stream",
          "name": "stdout",
          "text": [
            "Make a selection: \n",
            "\n",
            "apple\n",
            "bread\n",
            "milk\n",
            "eggs\n",
            "or type 'pay' when you're ready to checkout: pears\n",
            "\n",
            "Item not found. \n",
            "\n",
            "Make a selection: \n",
            "\n",
            "apple\n",
            "bread\n",
            "milk\n",
            "eggs\n"
          ]
        }
      ],
      "source": [
        "products = {'apple': 1, 'bread': 2, 'milk': 5, 'eggs': 6}\n",
        "unpaid = True\n",
        "subtotal_price = 0\n",
        "\n",
        "while unpaid == True:\n",
        "  print(\"Make a selection: \\n\")\n",
        "  for item in products.keys():\n",
        "    print(item)\n",
        "  user_input = input(\"or type 'pay' when you're ready to checkout: \").lower()\n",
        "  if user_input in products:\n",
        "      subtotal_price += products[user_input]\n",
        "      print(f\"\\nitem {item} has been added to cart, running price: ${subtotal_price} \\n\")\n",
        "      continue\n",
        "  if user_input not in products and user_input != \"pay\":\n",
        "    print(\"\\nItem not found. \\n\")\n",
        "  if user_input == \"pay\":\n",
        "    unpaid = False\n",
        "    tax = subtotal_price * 0.08\n",
        "    total_price = tax + subtotal_price\n",
        "    print(f\"\\nSubtotal: ${subtotal_price}\")\n",
        "    print(f\"Tax: ${tax:.2f}\")\n",
        "    print(f\"Total: ${total_price:.2f}\")\n",
        "\n",
        ""
      ]
    },
    {
      "cell_type": "code",
      "source": [],
      "metadata": {
        "id": "gYA1agKw5slJ"
      },
      "execution_count": null,
      "outputs": []
    }
  ]
}